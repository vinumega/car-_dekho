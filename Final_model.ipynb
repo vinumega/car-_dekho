{
 "cells": [
  {
   "cell_type": "code",
   "execution_count": 24,
   "metadata": {},
   "outputs": [],
   "source": [
    "import pandas as pd\n",
    "from sklearn.preprocessing import LabelEncoder\n",
    "from sklearn.model_selection import train_test_split\n",
    "from sklearn.ensemble import GradientBoostingRegressor\n",
    "from sklearn.model_selection import GridSearchCV"
   ]
  },
  {
   "cell_type": "code",
   "execution_count": 25,
   "metadata": {},
   "outputs": [],
   "source": [
    "df=pd.read_excel(\"final_data.xlsx\")"
   ]
  },
  {
   "cell_type": "code",
   "execution_count": 26,
   "metadata": {},
   "outputs": [
    {
     "data": {
      "text/html": [
       "<div>\n",
       "<style scoped>\n",
       "    .dataframe tbody tr th:only-of-type {\n",
       "        vertical-align: middle;\n",
       "    }\n",
       "\n",
       "    .dataframe tbody tr th {\n",
       "        vertical-align: top;\n",
       "    }\n",
       "\n",
       "    .dataframe thead th {\n",
       "        text-align: right;\n",
       "    }\n",
       "</style>\n",
       "<table border=\"1\" class=\"dataframe\">\n",
       "  <thead>\n",
       "    <tr style=\"text-align: right;\">\n",
       "      <th></th>\n",
       "      <th>Unnamed: 0</th>\n",
       "      <th>model</th>\n",
       "      <th>Wheel Base</th>\n",
       "      <th>Width</th>\n",
       "      <th>state</th>\n",
       "      <th>Max Power</th>\n",
       "      <th>RTO</th>\n",
       "      <th>Registration Year</th>\n",
       "      <th>Kms Driven</th>\n",
       "      <th>centralVariantId</th>\n",
       "      <th>price</th>\n",
       "    </tr>\n",
       "  </thead>\n",
       "  <tbody>\n",
       "    <tr>\n",
       "      <th>0</th>\n",
       "      <td>0</td>\n",
       "      <td>Maruti Celerio</td>\n",
       "      <td>2425</td>\n",
       "      <td>1635</td>\n",
       "      <td>bangalore</td>\n",
       "      <td>67.04bhp@6000rpm</td>\n",
       "      <td>KA51</td>\n",
       "      <td>2015</td>\n",
       "      <td>120000</td>\n",
       "      <td>3979</td>\n",
       "      <td>400000</td>\n",
       "    </tr>\n",
       "    <tr>\n",
       "      <th>1</th>\n",
       "      <td>1</td>\n",
       "      <td>Ford Ecosport</td>\n",
       "      <td>2519</td>\n",
       "      <td>1765</td>\n",
       "      <td>bangalore</td>\n",
       "      <td>121.31bhp@6500rpm</td>\n",
       "      <td>KA05</td>\n",
       "      <td>2018</td>\n",
       "      <td>32706</td>\n",
       "      <td>6087</td>\n",
       "      <td>811000</td>\n",
       "    </tr>\n",
       "    <tr>\n",
       "      <th>2</th>\n",
       "      <td>2</td>\n",
       "      <td>Tata Tiago</td>\n",
       "      <td>2400</td>\n",
       "      <td>1647</td>\n",
       "      <td>bangalore</td>\n",
       "      <td>84bhp@6000rpm</td>\n",
       "      <td>KA03</td>\n",
       "      <td>2018</td>\n",
       "      <td>11949</td>\n",
       "      <td>2983</td>\n",
       "      <td>585000</td>\n",
       "    </tr>\n",
       "    <tr>\n",
       "      <th>3</th>\n",
       "      <td>3</td>\n",
       "      <td>Hyundai Xcent</td>\n",
       "      <td>2425</td>\n",
       "      <td>1660</td>\n",
       "      <td>bangalore</td>\n",
       "      <td>81.86bhp@6000rpm</td>\n",
       "      <td>KA53</td>\n",
       "      <td>2014</td>\n",
       "      <td>17794</td>\n",
       "      <td>1867</td>\n",
       "      <td>462000</td>\n",
       "    </tr>\n",
       "  </tbody>\n",
       "</table>\n",
       "</div>"
      ],
      "text/plain": [
       "   Unnamed: 0           model  Wheel Base  Width      state  \\\n",
       "0           0  Maruti Celerio        2425   1635  bangalore   \n",
       "1           1   Ford Ecosport        2519   1765  bangalore   \n",
       "2           2      Tata Tiago        2400   1647  bangalore   \n",
       "3           3   Hyundai Xcent        2425   1660  bangalore   \n",
       "\n",
       "           Max Power   RTO  Registration Year  Kms Driven  centralVariantId  \\\n",
       "0   67.04bhp@6000rpm  KA51               2015      120000              3979   \n",
       "1  121.31bhp@6500rpm  KA05               2018       32706              6087   \n",
       "2      84bhp@6000rpm  KA03               2018       11949              2983   \n",
       "3   81.86bhp@6000rpm  KA53               2014       17794              1867   \n",
       "\n",
       "    price  \n",
       "0  400000  \n",
       "1  811000  \n",
       "2  585000  \n",
       "3  462000  "
      ]
     },
     "execution_count": 26,
     "metadata": {},
     "output_type": "execute_result"
    }
   ],
   "source": [
    "df.head(4)"
   ]
  },
  {
   "cell_type": "code",
   "execution_count": 27,
   "metadata": {},
   "outputs": [],
   "source": [
    "label_encoder=LabelEncoder()\n",
    "for col in df.select_dtypes(include=\"object\").columns:\n",
    "    df[col]=label_encoder.fit_transform(df[col])"
   ]
  },
  {
   "cell_type": "code",
   "execution_count": 28,
   "metadata": {},
   "outputs": [],
   "source": [
    "\n",
    "from sklearn.metrics import mean_squared_error, mean_absolute_error, r2_score\n",
    "x=df.drop(columns=[\"price\"])\n",
    "y=df[\"price\"]\n",
    "x_train,x_test,y_train,y_test=train_test_split(x,y,test_size=0.2, shuffle=True, random_state=42)"
   ]
  },
  {
   "cell_type": "code",
   "execution_count": 29,
   "metadata": {},
   "outputs": [
    {
     "name": "stdout",
     "output_type": "stream",
     "text": [
      "Fitting 5 folds for each of 1 candidates, totalling 5 fits\n",
      "Best parameters found: {'learning_rate': 0.1, 'max_depth': 4, 'min_samples_leaf': 2, 'min_samples_split': 2, 'n_estimators': 300, 'subsample': 0.8}\n",
      "Mean Squared Error: 9219966040.019907\n",
      "Mean Absolute Error: 64961.88273142907\n",
      "R-squared: 0.9062019413211346\n"
     ]
    }
   ],
   "source": [
    "\n",
    "model = GradientBoostingRegressor(random_state=42)\n",
    "\n",
    "# Define the parameter grid\n",
    "param_grid = {\n",
    "    'n_estimators': [300],\n",
    "    'learning_rate': [0.1],\n",
    "    'max_depth': [4],\n",
    "    'min_samples_split': [2],\n",
    "    'min_samples_leaf': [2],\n",
    "    'subsample': [0.8]\n",
    "}\n",
    "\n",
    "# Initialize GridSearchCV\n",
    "grid_search = GridSearchCV(estimator=model, param_grid=param_grid, \n",
    "                           cv=5, n_jobs=-1, verbose=2)\n",
    "\n",
    "# Fit the model with the grid search\n",
    "grid_search.fit(x_train, y_train)\n",
    "\n",
    "# Get the best parameters\n",
    "best_params = grid_search.best_params_\n",
    "print(f\"Best parameters found: {best_params}\")\n",
    "\n",
    "# Predict using the model with the best-found parameters\n",
    "y_pred = grid_search.best_estimator_.predict(x_test)\n",
    "\n",
    "# Evaluate the model's performance\n",
    "mse = mean_squared_error(y_test, y_pred)\n",
    "mae = mean_absolute_error(y_test, y_pred)\n",
    "r2 = r2_score(y_test, y_pred)\n",
    "\n",
    "print(f\"Mean Squared Error: {mse}\")\n",
    "print(f\"Mean Absolute Error: {mae}\")\n",
    "print(f\"R-squared: {r2}\")\n"
   ]
  }
 ],
 "metadata": {
  "kernelspec": {
   "display_name": "Python 3 (ipykernel)",
   "language": "python",
   "name": "python3"
  },
  "language_info": {
   "codemirror_mode": {
    "name": "ipython",
    "version": 3
   },
   "file_extension": ".py",
   "mimetype": "text/x-python",
   "name": "python",
   "nbconvert_exporter": "python",
   "pygments_lexer": "ipython3",
   "version": "3.12.3"
  }
 },
 "nbformat": 4,
 "nbformat_minor": 4
}
